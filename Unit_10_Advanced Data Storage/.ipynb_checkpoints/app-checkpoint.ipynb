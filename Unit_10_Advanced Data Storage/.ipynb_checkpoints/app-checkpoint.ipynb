{
 "cells": [
  {
   "cell_type": "code",
   "execution_count": 4,
   "metadata": {},
   "outputs": [
    {
     "name": "stdout",
     "output_type": "stream",
     "text": [
      " * Serving Flask app \"__main__\" (lazy loading)\n",
      " * Environment: production\n",
      "   WARNING: This is a development server. Do not use it in a production deployment.\n",
      "   Use a production WSGI server instead.\n",
      " * Debug mode: on\n"
     ]
    },
    {
     "name": "stderr",
     "output_type": "stream",
     "text": [
      " * Restarting with stat\n"
     ]
    },
    {
     "ename": "SystemExit",
     "evalue": "1",
     "output_type": "error",
     "traceback": [
      "An exception has occurred, use %tb to see the full traceback.\n",
      "\u001b[1;31mSystemExit\u001b[0m\u001b[1;31m:\u001b[0m 1\n"
     ]
    }
   ],
   "source": [
    "import numpy as np\n",
    "import pandas as pd\n",
    "import datetime as dt\n",
    "import sqlalchemy\n",
    "from sqlalchemy.ext.automap import automap_base\n",
    "from sqlalchemy.orm import Session\n",
    "from sqlalchemy import create_engine, func\n",
    "from flask import Flask, jsonify\n",
    "#set up db and tables\n",
    "engine = create_engine(\"sqlite:///Resources\\hawaii.sqlite\")\n",
    "# reflect an existing database into a new model\n",
    "Base = automap_base()\n",
    "# reflect the tables\n",
    "Base.prepare(engine, reflect=True)\n",
    "# Save references to each table\n",
    "Measurement = Base.classes.measurement\n",
    "Station = Base.classes.station\n",
    "#create a flask app\n",
    "app= Flask(__name__)\n",
    "#create home page\n",
    "@app.route('/')\n",
    "def origin():\n",
    "   return(\n",
    "       'Welcome<br/>'\n",
    "       'Precipitation data /api/v1.0/precipitation<br/>'\n",
    "       'Station data /api/v1.0/stations<br/>'\n",
    "       'Temperature data /api/v1.0/tobs<br/>'\n",
    "       'Start date & Years /api/v1.0/<start><br/>'\n",
    "       'End date /api/v1.0/<start>/<end><br/>'\n",
    "   )\n",
    "@app.route('/api/v1.0/precipitation')\n",
    "def precipitation():\n",
    "   session = Session(engine)\n",
    "   prcp=session.query(Measurement.date, Measurement.prcp).\\\n",
    "   group_by(Measurement.date).all\n",
    "   results = list(np.ravel(prcp))\n",
    "   session.close()\n",
    "   return jsonify(results)\n",
    "@app.route('/api/v1.0/stations')\n",
    "def stations():\n",
    "   session = Session(engine)\n",
    "   stations=session.query(Measurement.station).group_by(Measurement.station).all()\n",
    "   results = list(np.ravel(stations))\n",
    "   session.close()\n",
    "   return jsonify(results)\n",
    "@app.route('/api/v1.0/tobs')\n",
    "def tobs():\n",
    "   session = Session(engine)\n",
    "   tobs=session.query(Measurement.date, Measurement.tobs).group_by(Measurement.date).all()\n",
    "   results = list(np.ravel(tobs))\n",
    "   session.close()\n",
    "   return jsonify(results)\n",
    "@app.route('/api/v1.0/<start>')\n",
    "def start(start):\n",
    "   session = Session(engine)\n",
    "   begin=session.query(func.min(Measurement.tobs), func.avg(Measurement.tobs), func.max(Measurement.tobs)).\\\n",
    "       filter(Measurement.date >= start).all()\n",
    "   results = list(np.ravel(begin))\n",
    "   session.close()\n",
    "   return jsonify(results)\n",
    "@app.route('/api/v1.0/<start>/<end>')\n",
    "def end(start, end):\n",
    "   session = Session(engine)\n",
    "   begin=session.query(func.min(Measurement.tobs), func.avg(Measurement.tobs), func.max(Measurement.tobs)).\\\n",
    "       filter(Measurement.date >= start).filter(Measurement.date <= end).all()\n",
    "   results = list(np.ravel(begin))\n",
    "   session.close()\n",
    "   return jsonify(results)\n",
    "if __name__ == '__main__':\n",
    "   app.run(debug=True)\n",
    "\n",
    "\n",
    "\n"
   ]
  },
  {
   "cell_type": "code",
   "execution_count": null,
   "metadata": {},
   "outputs": [],
   "source": []
  }
 ],
 "metadata": {
  "kernelspec": {
   "display_name": "Python 3",
   "language": "python",
   "name": "python3"
  },
  "language_info": {
   "codemirror_mode": {
    "name": "ipython",
    "version": 3
   },
   "file_extension": ".py",
   "mimetype": "text/x-python",
   "name": "python",
   "nbconvert_exporter": "python",
   "pygments_lexer": "ipython3",
   "version": "3.7.3"
  }
 },
 "nbformat": 4,
 "nbformat_minor": 2
}
