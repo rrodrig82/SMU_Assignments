{
 "cells": [
  {
   "cell_type": "code",
   "execution_count": 1,
   "metadata": {},
   "outputs": [],
   "source": [
    "# Dependencies and Setup\n",
    "%matplotlib inline\n",
    "import matplotlib.pyplot as plt\n",
    "import pandas as pd\n",
    "import numpy as np\n",
    "import seaborn as sns\n",
    "\n",
    "# Hide warning messages in notebook\n",
    "import warnings\n",
    "warnings.filterwarnings('ignore')\n",
    "\n",
    "# File to Load (Remember to Change These)\n",
    "mouse_drug_data_to_load = \"data/mouse_drug_data.csv\"\n",
    "clinical_trial_data_to_load = \"data/clinicaltrial_data.csv\"\n",
    "\n",
    "# Read the Mouse and Drug Data and the Clinical Trial Data\n",
    "\n",
    "\n",
    "# Combine the data into a single dataset\n",
    "\n",
    "\n",
    "# Display the data table for preview\n",
    "\n"
   ]
  },
  {
   "cell_type": "code",
   "execution_count": 2,
   "metadata": {},
   "outputs": [],
   "source": [
    "# Read the Mouse and Drug Data and the Clinical Trial Data\n",
    "mouse_drug_data_to_load = pd.read_csv(\"Data/mouse_drug_data.csv\")\n",
    "clinical_trial_data_to_load = pd.read_csv(\"Data/clinicaltrial_data.csv\")"
   ]
  },
  {
   "cell_type": "code",
   "execution_count": 3,
   "metadata": {},
   "outputs": [
    {
     "data": {
      "text/html": [
       "<div>\n",
       "<style scoped>\n",
       "    .dataframe tbody tr th:only-of-type {\n",
       "        vertical-align: middle;\n",
       "    }\n",
       "\n",
       "    .dataframe tbody tr th {\n",
       "        vertical-align: top;\n",
       "    }\n",
       "\n",
       "    .dataframe thead th {\n",
       "        text-align: right;\n",
       "    }\n",
       "</style>\n",
       "<table border=\"1\" class=\"dataframe\">\n",
       "  <thead>\n",
       "    <tr style=\"text-align: right;\">\n",
       "      <th></th>\n",
       "      <th>Mouse ID</th>\n",
       "      <th>Drug</th>\n",
       "    </tr>\n",
       "  </thead>\n",
       "  <tbody>\n",
       "    <tr>\n",
       "      <th>0</th>\n",
       "      <td>f234</td>\n",
       "      <td>Stelasyn</td>\n",
       "    </tr>\n",
       "    <tr>\n",
       "      <th>1</th>\n",
       "      <td>x402</td>\n",
       "      <td>Stelasyn</td>\n",
       "    </tr>\n",
       "    <tr>\n",
       "      <th>2</th>\n",
       "      <td>a492</td>\n",
       "      <td>Stelasyn</td>\n",
       "    </tr>\n",
       "    <tr>\n",
       "      <th>3</th>\n",
       "      <td>w540</td>\n",
       "      <td>Stelasyn</td>\n",
       "    </tr>\n",
       "    <tr>\n",
       "      <th>4</th>\n",
       "      <td>v764</td>\n",
       "      <td>Stelasyn</td>\n",
       "    </tr>\n",
       "  </tbody>\n",
       "</table>\n",
       "</div>"
      ],
      "text/plain": [
       "  Mouse ID      Drug\n",
       "0     f234  Stelasyn\n",
       "1     x402  Stelasyn\n",
       "2     a492  Stelasyn\n",
       "3     w540  Stelasyn\n",
       "4     v764  Stelasyn"
      ]
     },
     "execution_count": 3,
     "metadata": {},
     "output_type": "execute_result"
    }
   ],
   "source": [
    "mouse_drug_data_to_load.head()"
   ]
  },
  {
   "cell_type": "code",
   "execution_count": 4,
   "metadata": {
    "scrolled": false
   },
   "outputs": [
    {
     "data": {
      "text/html": [
       "<div>\n",
       "<style scoped>\n",
       "    .dataframe tbody tr th:only-of-type {\n",
       "        vertical-align: middle;\n",
       "    }\n",
       "\n",
       "    .dataframe tbody tr th {\n",
       "        vertical-align: top;\n",
       "    }\n",
       "\n",
       "    .dataframe thead th {\n",
       "        text-align: right;\n",
       "    }\n",
       "</style>\n",
       "<table border=\"1\" class=\"dataframe\">\n",
       "  <thead>\n",
       "    <tr style=\"text-align: right;\">\n",
       "      <th></th>\n",
       "      <th>Mouse ID</th>\n",
       "      <th>Timepoint</th>\n",
       "      <th>Tumor Volume (mm3)</th>\n",
       "      <th>Metastatic Sites</th>\n",
       "    </tr>\n",
       "  </thead>\n",
       "  <tbody>\n",
       "    <tr>\n",
       "      <th>0</th>\n",
       "      <td>b128</td>\n",
       "      <td>0</td>\n",
       "      <td>45.0</td>\n",
       "      <td>0</td>\n",
       "    </tr>\n",
       "    <tr>\n",
       "      <th>1</th>\n",
       "      <td>f932</td>\n",
       "      <td>0</td>\n",
       "      <td>45.0</td>\n",
       "      <td>0</td>\n",
       "    </tr>\n",
       "    <tr>\n",
       "      <th>2</th>\n",
       "      <td>g107</td>\n",
       "      <td>0</td>\n",
       "      <td>45.0</td>\n",
       "      <td>0</td>\n",
       "    </tr>\n",
       "    <tr>\n",
       "      <th>3</th>\n",
       "      <td>a457</td>\n",
       "      <td>0</td>\n",
       "      <td>45.0</td>\n",
       "      <td>0</td>\n",
       "    </tr>\n",
       "    <tr>\n",
       "      <th>4</th>\n",
       "      <td>c819</td>\n",
       "      <td>0</td>\n",
       "      <td>45.0</td>\n",
       "      <td>0</td>\n",
       "    </tr>\n",
       "  </tbody>\n",
       "</table>\n",
       "</div>"
      ],
      "text/plain": [
       "  Mouse ID  Timepoint  Tumor Volume (mm3)  Metastatic Sites\n",
       "0     b128          0                45.0                 0\n",
       "1     f932          0                45.0                 0\n",
       "2     g107          0                45.0                 0\n",
       "3     a457          0                45.0                 0\n",
       "4     c819          0                45.0                 0"
      ]
     },
     "execution_count": 4,
     "metadata": {},
     "output_type": "execute_result"
    }
   ],
   "source": [
    "clinical_trial_data_to_load.head()"
   ]
  },
  {
   "cell_type": "code",
   "execution_count": 5,
   "metadata": {
    "scrolled": true
   },
   "outputs": [
    {
     "data": {
      "text/html": [
       "<div>\n",
       "<style scoped>\n",
       "    .dataframe tbody tr th:only-of-type {\n",
       "        vertical-align: middle;\n",
       "    }\n",
       "\n",
       "    .dataframe tbody tr th {\n",
       "        vertical-align: top;\n",
       "    }\n",
       "\n",
       "    .dataframe thead th {\n",
       "        text-align: right;\n",
       "    }\n",
       "</style>\n",
       "<table border=\"1\" class=\"dataframe\">\n",
       "  <thead>\n",
       "    <tr style=\"text-align: right;\">\n",
       "      <th></th>\n",
       "      <th>Mouse ID</th>\n",
       "      <th>Timepoint</th>\n",
       "      <th>Tumor Volume (mm3)</th>\n",
       "      <th>Metastatic Sites</th>\n",
       "      <th>Drug</th>\n",
       "    </tr>\n",
       "  </thead>\n",
       "  <tbody>\n",
       "    <tr>\n",
       "      <th>0</th>\n",
       "      <td>b128</td>\n",
       "      <td>0</td>\n",
       "      <td>45.000000</td>\n",
       "      <td>0</td>\n",
       "      <td>Capomulin</td>\n",
       "    </tr>\n",
       "    <tr>\n",
       "      <th>1</th>\n",
       "      <td>b128</td>\n",
       "      <td>5</td>\n",
       "      <td>45.651331</td>\n",
       "      <td>0</td>\n",
       "      <td>Capomulin</td>\n",
       "    </tr>\n",
       "    <tr>\n",
       "      <th>2</th>\n",
       "      <td>b128</td>\n",
       "      <td>10</td>\n",
       "      <td>43.270852</td>\n",
       "      <td>0</td>\n",
       "      <td>Capomulin</td>\n",
       "    </tr>\n",
       "    <tr>\n",
       "      <th>3</th>\n",
       "      <td>b128</td>\n",
       "      <td>15</td>\n",
       "      <td>43.784893</td>\n",
       "      <td>0</td>\n",
       "      <td>Capomulin</td>\n",
       "    </tr>\n",
       "    <tr>\n",
       "      <th>4</th>\n",
       "      <td>b128</td>\n",
       "      <td>20</td>\n",
       "      <td>42.731552</td>\n",
       "      <td>0</td>\n",
       "      <td>Capomulin</td>\n",
       "    </tr>\n",
       "  </tbody>\n",
       "</table>\n",
       "</div>"
      ],
      "text/plain": [
       "  Mouse ID  Timepoint  Tumor Volume (mm3)  Metastatic Sites       Drug\n",
       "0     b128          0           45.000000                 0  Capomulin\n",
       "1     b128          5           45.651331                 0  Capomulin\n",
       "2     b128         10           43.270852                 0  Capomulin\n",
       "3     b128         15           43.784893                 0  Capomulin\n",
       "4     b128         20           42.731552                 0  Capomulin"
      ]
     },
     "execution_count": 5,
     "metadata": {},
     "output_type": "execute_result"
    }
   ],
   "source": [
    "# Combine the data into a single dataset\n",
    "drug_trial_data = clinical_trial_data_to_load.merge(mouse_drug_data_to_load, on = 'Mouse ID', how = 'outer')\n",
    "drug_trial_data.head()"
   ]
  },
  {
   "cell_type": "markdown",
   "metadata": {},
   "source": [
    "## Tumor Response to Treatment"
   ]
  },
  {
   "cell_type": "code",
   "execution_count": 6,
   "metadata": {},
   "outputs": [],
   "source": [
    "# Store the Mean Tumor Volume Data Grouped by Drug and Timepoint \n",
    "\n",
    "# Convert to DataFrame\n",
    "\n",
    "# Preview DataFrame\n"
   ]
  },
  {
   "cell_type": "code",
   "execution_count": 7,
   "metadata": {},
   "outputs": [],
   "source": [
    "# Store the Mean Tumor Volume Data Grouped by Drug and Timepoint \n",
    "tumor_response_df = drug_trial_data[['Drug', 'Timepoint', 'Tumor Volume (mm3)']]\n",
    "tumor_response_df = pd.DataFrame(tumor_response_df.groupby(['Drug', 'Timepoint'])['Tumor Volume (mm3)'].mean())"
   ]
  },
  {
   "cell_type": "code",
   "execution_count": 8,
   "metadata": {
    "scrolled": true
   },
   "outputs": [
    {
     "data": {
      "text/html": [
       "<div>\n",
       "<style scoped>\n",
       "    .dataframe tbody tr th:only-of-type {\n",
       "        vertical-align: middle;\n",
       "    }\n",
       "\n",
       "    .dataframe tbody tr th {\n",
       "        vertical-align: top;\n",
       "    }\n",
       "\n",
       "    .dataframe thead th {\n",
       "        text-align: right;\n",
       "    }\n",
       "</style>\n",
       "<table border=\"1\" class=\"dataframe\">\n",
       "  <thead>\n",
       "    <tr style=\"text-align: right;\">\n",
       "      <th></th>\n",
       "      <th>Drug</th>\n",
       "      <th>Timepoint</th>\n",
       "      <th>Tumor Volume (mm3)</th>\n",
       "      <th>Volume SEM</th>\n",
       "    </tr>\n",
       "  </thead>\n",
       "  <tbody>\n",
       "    <tr>\n",
       "      <th>0</th>\n",
       "      <td>Capomulin</td>\n",
       "      <td>0</td>\n",
       "      <td>45.000000</td>\n",
       "      <td>0.898067</td>\n",
       "    </tr>\n",
       "    <tr>\n",
       "      <th>1</th>\n",
       "      <td>Capomulin</td>\n",
       "      <td>5</td>\n",
       "      <td>44.266086</td>\n",
       "      <td>0.898067</td>\n",
       "    </tr>\n",
       "    <tr>\n",
       "      <th>2</th>\n",
       "      <td>Capomulin</td>\n",
       "      <td>10</td>\n",
       "      <td>43.084291</td>\n",
       "      <td>0.898067</td>\n",
       "    </tr>\n",
       "    <tr>\n",
       "      <th>3</th>\n",
       "      <td>Capomulin</td>\n",
       "      <td>15</td>\n",
       "      <td>42.064317</td>\n",
       "      <td>0.898067</td>\n",
       "    </tr>\n",
       "    <tr>\n",
       "      <th>4</th>\n",
       "      <td>Capomulin</td>\n",
       "      <td>20</td>\n",
       "      <td>40.716325</td>\n",
       "      <td>0.898067</td>\n",
       "    </tr>\n",
       "  </tbody>\n",
       "</table>\n",
       "</div>"
      ],
      "text/plain": [
       "        Drug  Timepoint  Tumor Volume (mm3)  Volume SEM\n",
       "0  Capomulin          0           45.000000    0.898067\n",
       "1  Capomulin          5           44.266086    0.898067\n",
       "2  Capomulin         10           43.084291    0.898067\n",
       "3  Capomulin         15           42.064317    0.898067\n",
       "4  Capomulin         20           40.716325    0.898067"
      ]
     },
     "execution_count": 8,
     "metadata": {},
     "output_type": "execute_result"
    }
   ],
   "source": [
    "# Convert to DataFrame\n",
    "\n",
    "tumor_response_df[\"Volume SEM\"] = tumor_response_df['Tumor Volume (mm3)'].sem()\n",
    "tumor_response_df.reset_index(inplace = True)\n",
    "tumor_response_df.head()\n"
   ]
  },
  {
   "cell_type": "code",
   "execution_count": 9,
   "metadata": {},
   "outputs": [
    {
     "data": {
      "text/html": [
       "<div>\n",
       "<style scoped>\n",
       "    .dataframe tbody tr th:only-of-type {\n",
       "        vertical-align: middle;\n",
       "    }\n",
       "\n",
       "    .dataframe tbody tr th {\n",
       "        vertical-align: top;\n",
       "    }\n",
       "\n",
       "    .dataframe thead th {\n",
       "        text-align: right;\n",
       "    }\n",
       "</style>\n",
       "<table border=\"1\" class=\"dataframe\">\n",
       "  <thead>\n",
       "    <tr style=\"text-align: right;\">\n",
       "      <th>Drug</th>\n",
       "      <th>Capomulin</th>\n",
       "      <th>Ceftamin</th>\n",
       "      <th>Infubinol</th>\n",
       "      <th>Ketapril</th>\n",
       "      <th>Naftisol</th>\n",
       "      <th>Placebo</th>\n",
       "      <th>Propriva</th>\n",
       "      <th>Ramicane</th>\n",
       "      <th>Stelasyn</th>\n",
       "      <th>Zoniferol</th>\n",
       "    </tr>\n",
       "    <tr>\n",
       "      <th>Timepoint</th>\n",
       "      <th></th>\n",
       "      <th></th>\n",
       "      <th></th>\n",
       "      <th></th>\n",
       "      <th></th>\n",
       "      <th></th>\n",
       "      <th></th>\n",
       "      <th></th>\n",
       "      <th></th>\n",
       "      <th></th>\n",
       "    </tr>\n",
       "  </thead>\n",
       "  <tbody>\n",
       "    <tr>\n",
       "      <th>0</th>\n",
       "      <td>45.000000</td>\n",
       "      <td>45.000000</td>\n",
       "      <td>45.000000</td>\n",
       "      <td>45.000000</td>\n",
       "      <td>45.000000</td>\n",
       "      <td>45.000000</td>\n",
       "      <td>45.000000</td>\n",
       "      <td>45.000000</td>\n",
       "      <td>45.000000</td>\n",
       "      <td>45.000000</td>\n",
       "    </tr>\n",
       "    <tr>\n",
       "      <th>5</th>\n",
       "      <td>44.266086</td>\n",
       "      <td>46.503051</td>\n",
       "      <td>47.062001</td>\n",
       "      <td>47.389175</td>\n",
       "      <td>46.796098</td>\n",
       "      <td>47.125589</td>\n",
       "      <td>47.248967</td>\n",
       "      <td>43.944859</td>\n",
       "      <td>47.527452</td>\n",
       "      <td>46.851818</td>\n",
       "    </tr>\n",
       "    <tr>\n",
       "      <th>10</th>\n",
       "      <td>43.084291</td>\n",
       "      <td>48.285125</td>\n",
       "      <td>49.403909</td>\n",
       "      <td>49.582269</td>\n",
       "      <td>48.694210</td>\n",
       "      <td>49.423329</td>\n",
       "      <td>49.101541</td>\n",
       "      <td>42.531957</td>\n",
       "      <td>49.463844</td>\n",
       "      <td>48.689881</td>\n",
       "    </tr>\n",
       "    <tr>\n",
       "      <th>15</th>\n",
       "      <td>42.064317</td>\n",
       "      <td>50.094055</td>\n",
       "      <td>51.296397</td>\n",
       "      <td>52.399974</td>\n",
       "      <td>50.933018</td>\n",
       "      <td>51.359742</td>\n",
       "      <td>51.067318</td>\n",
       "      <td>41.495061</td>\n",
       "      <td>51.529409</td>\n",
       "      <td>50.779059</td>\n",
       "    </tr>\n",
       "    <tr>\n",
       "      <th>20</th>\n",
       "      <td>40.716325</td>\n",
       "      <td>52.157049</td>\n",
       "      <td>53.197691</td>\n",
       "      <td>54.920935</td>\n",
       "      <td>53.644087</td>\n",
       "      <td>54.364417</td>\n",
       "      <td>53.346737</td>\n",
       "      <td>40.238325</td>\n",
       "      <td>54.067395</td>\n",
       "      <td>53.170334</td>\n",
       "    </tr>\n",
       "  </tbody>\n",
       "</table>\n",
       "</div>"
      ],
      "text/plain": [
       "Drug       Capomulin   Ceftamin  Infubinol   Ketapril   Naftisol    Placebo  \\\n",
       "Timepoint                                                                     \n",
       "0          45.000000  45.000000  45.000000  45.000000  45.000000  45.000000   \n",
       "5          44.266086  46.503051  47.062001  47.389175  46.796098  47.125589   \n",
       "10         43.084291  48.285125  49.403909  49.582269  48.694210  49.423329   \n",
       "15         42.064317  50.094055  51.296397  52.399974  50.933018  51.359742   \n",
       "20         40.716325  52.157049  53.197691  54.920935  53.644087  54.364417   \n",
       "\n",
       "Drug        Propriva   Ramicane   Stelasyn  Zoniferol  \n",
       "Timepoint                                              \n",
       "0          45.000000  45.000000  45.000000  45.000000  \n",
       "5          47.248967  43.944859  47.527452  46.851818  \n",
       "10         49.101541  42.531957  49.463844  48.689881  \n",
       "15         51.067318  41.495061  51.529409  50.779059  \n",
       "20         53.346737  40.238325  54.067395  53.170334  "
      ]
     },
     "execution_count": 9,
     "metadata": {},
     "output_type": "execute_result"
    }
   ],
   "source": [
    "# Store the Standard Error of Tumor Volumes Grouped by Drug and Timepoint\n",
    "tumor_response_pivot = tumor_response_df.pivot_table(index='Timepoint',columns='Drug',values='Tumor Volume (mm3)')  \n",
    "tumor_response_pivot.head()"
   ]
  },
  {
   "cell_type": "code",
   "execution_count": 10,
   "metadata": {},
   "outputs": [
    {
     "data": {
      "text/html": [
       "<div>\n",
       "<style scoped>\n",
       "    .dataframe tbody tr th:only-of-type {\n",
       "        vertical-align: middle;\n",
       "    }\n",
       "\n",
       "    .dataframe tbody tr th {\n",
       "        vertical-align: top;\n",
       "    }\n",
       "\n",
       "    .dataframe thead th {\n",
       "        text-align: right;\n",
       "    }\n",
       "</style>\n",
       "<table border=\"1\" class=\"dataframe\">\n",
       "  <thead>\n",
       "    <tr style=\"text-align: right;\">\n",
       "      <th>Drug</th>\n",
       "      <th>Capomulin</th>\n",
       "      <th>Ceftamin</th>\n",
       "      <th>Infubinol</th>\n",
       "      <th>Ketapril</th>\n",
       "      <th>Naftisol</th>\n",
       "      <th>Placebo</th>\n",
       "      <th>Propriva</th>\n",
       "      <th>Ramicane</th>\n",
       "      <th>Stelasyn</th>\n",
       "      <th>Zoniferol</th>\n",
       "    </tr>\n",
       "    <tr>\n",
       "      <th>Timepoint</th>\n",
       "      <th></th>\n",
       "      <th></th>\n",
       "      <th></th>\n",
       "      <th></th>\n",
       "      <th></th>\n",
       "      <th></th>\n",
       "      <th></th>\n",
       "      <th></th>\n",
       "      <th></th>\n",
       "      <th></th>\n",
       "    </tr>\n",
       "  </thead>\n",
       "  <tbody>\n",
       "    <tr>\n",
       "      <th>0</th>\n",
       "      <td>0.898067</td>\n",
       "      <td>0.898067</td>\n",
       "      <td>0.898067</td>\n",
       "      <td>0.898067</td>\n",
       "      <td>0.898067</td>\n",
       "      <td>0.898067</td>\n",
       "      <td>0.898067</td>\n",
       "      <td>0.898067</td>\n",
       "      <td>0.898067</td>\n",
       "      <td>0.898067</td>\n",
       "    </tr>\n",
       "    <tr>\n",
       "      <th>5</th>\n",
       "      <td>0.898067</td>\n",
       "      <td>0.898067</td>\n",
       "      <td>0.898067</td>\n",
       "      <td>0.898067</td>\n",
       "      <td>0.898067</td>\n",
       "      <td>0.898067</td>\n",
       "      <td>0.898067</td>\n",
       "      <td>0.898067</td>\n",
       "      <td>0.898067</td>\n",
       "      <td>0.898067</td>\n",
       "    </tr>\n",
       "    <tr>\n",
       "      <th>10</th>\n",
       "      <td>0.898067</td>\n",
       "      <td>0.898067</td>\n",
       "      <td>0.898067</td>\n",
       "      <td>0.898067</td>\n",
       "      <td>0.898067</td>\n",
       "      <td>0.898067</td>\n",
       "      <td>0.898067</td>\n",
       "      <td>0.898067</td>\n",
       "      <td>0.898067</td>\n",
       "      <td>0.898067</td>\n",
       "    </tr>\n",
       "    <tr>\n",
       "      <th>15</th>\n",
       "      <td>0.898067</td>\n",
       "      <td>0.898067</td>\n",
       "      <td>0.898067</td>\n",
       "      <td>0.898067</td>\n",
       "      <td>0.898067</td>\n",
       "      <td>0.898067</td>\n",
       "      <td>0.898067</td>\n",
       "      <td>0.898067</td>\n",
       "      <td>0.898067</td>\n",
       "      <td>0.898067</td>\n",
       "    </tr>\n",
       "    <tr>\n",
       "      <th>20</th>\n",
       "      <td>0.898067</td>\n",
       "      <td>0.898067</td>\n",
       "      <td>0.898067</td>\n",
       "      <td>0.898067</td>\n",
       "      <td>0.898067</td>\n",
       "      <td>0.898067</td>\n",
       "      <td>0.898067</td>\n",
       "      <td>0.898067</td>\n",
       "      <td>0.898067</td>\n",
       "      <td>0.898067</td>\n",
       "    </tr>\n",
       "    <tr>\n",
       "      <th>25</th>\n",
       "      <td>0.898067</td>\n",
       "      <td>0.898067</td>\n",
       "      <td>0.898067</td>\n",
       "      <td>0.898067</td>\n",
       "      <td>0.898067</td>\n",
       "      <td>0.898067</td>\n",
       "      <td>0.898067</td>\n",
       "      <td>0.898067</td>\n",
       "      <td>0.898067</td>\n",
       "      <td>0.898067</td>\n",
       "    </tr>\n",
       "    <tr>\n",
       "      <th>30</th>\n",
       "      <td>0.898067</td>\n",
       "      <td>0.898067</td>\n",
       "      <td>0.898067</td>\n",
       "      <td>0.898067</td>\n",
       "      <td>0.898067</td>\n",
       "      <td>0.898067</td>\n",
       "      <td>0.898067</td>\n",
       "      <td>0.898067</td>\n",
       "      <td>0.898067</td>\n",
       "      <td>0.898067</td>\n",
       "    </tr>\n",
       "    <tr>\n",
       "      <th>35</th>\n",
       "      <td>0.898067</td>\n",
       "      <td>0.898067</td>\n",
       "      <td>0.898067</td>\n",
       "      <td>0.898067</td>\n",
       "      <td>0.898067</td>\n",
       "      <td>0.898067</td>\n",
       "      <td>0.898067</td>\n",
       "      <td>0.898067</td>\n",
       "      <td>0.898067</td>\n",
       "      <td>0.898067</td>\n",
       "    </tr>\n",
       "    <tr>\n",
       "      <th>40</th>\n",
       "      <td>0.898067</td>\n",
       "      <td>0.898067</td>\n",
       "      <td>0.898067</td>\n",
       "      <td>0.898067</td>\n",
       "      <td>0.898067</td>\n",
       "      <td>0.898067</td>\n",
       "      <td>0.898067</td>\n",
       "      <td>0.898067</td>\n",
       "      <td>0.898067</td>\n",
       "      <td>0.898067</td>\n",
       "    </tr>\n",
       "    <tr>\n",
       "      <th>45</th>\n",
       "      <td>0.898067</td>\n",
       "      <td>0.898067</td>\n",
       "      <td>0.898067</td>\n",
       "      <td>0.898067</td>\n",
       "      <td>0.898067</td>\n",
       "      <td>0.898067</td>\n",
       "      <td>0.898067</td>\n",
       "      <td>0.898067</td>\n",
       "      <td>0.898067</td>\n",
       "      <td>0.898067</td>\n",
       "    </tr>\n",
       "  </tbody>\n",
       "</table>\n",
       "</div>"
      ],
      "text/plain": [
       "Drug       Capomulin  Ceftamin  Infubinol  Ketapril  Naftisol   Placebo  \\\n",
       "Timepoint                                                                 \n",
       "0           0.898067  0.898067   0.898067  0.898067  0.898067  0.898067   \n",
       "5           0.898067  0.898067   0.898067  0.898067  0.898067  0.898067   \n",
       "10          0.898067  0.898067   0.898067  0.898067  0.898067  0.898067   \n",
       "15          0.898067  0.898067   0.898067  0.898067  0.898067  0.898067   \n",
       "20          0.898067  0.898067   0.898067  0.898067  0.898067  0.898067   \n",
       "25          0.898067  0.898067   0.898067  0.898067  0.898067  0.898067   \n",
       "30          0.898067  0.898067   0.898067  0.898067  0.898067  0.898067   \n",
       "35          0.898067  0.898067   0.898067  0.898067  0.898067  0.898067   \n",
       "40          0.898067  0.898067   0.898067  0.898067  0.898067  0.898067   \n",
       "45          0.898067  0.898067   0.898067  0.898067  0.898067  0.898067   \n",
       "\n",
       "Drug       Propriva  Ramicane  Stelasyn  Zoniferol  \n",
       "Timepoint                                           \n",
       "0          0.898067  0.898067  0.898067   0.898067  \n",
       "5          0.898067  0.898067  0.898067   0.898067  \n",
       "10         0.898067  0.898067  0.898067   0.898067  \n",
       "15         0.898067  0.898067  0.898067   0.898067  \n",
       "20         0.898067  0.898067  0.898067   0.898067  \n",
       "25         0.898067  0.898067  0.898067   0.898067  \n",
       "30         0.898067  0.898067  0.898067   0.898067  \n",
       "35         0.898067  0.898067  0.898067   0.898067  \n",
       "40         0.898067  0.898067  0.898067   0.898067  \n",
       "45         0.898067  0.898067  0.898067   0.898067  "
      ]
     },
     "execution_count": 10,
     "metadata": {},
     "output_type": "execute_result"
    }
   ],
   "source": [
    "# Store the Standard Error of Tumor Response rouped by Drug and Timepoint\n",
    "tumor_response_sem_pivot = tumor_response_df.pivot_table(index='Timepoint',columns='Drug',values='Volume SEM')  \n",
    "tumor_response_sem_pivot"
   ]
  },
  {
   "cell_type": "code",
   "execution_count": 11,
   "metadata": {
    "scrolled": true
   },
   "outputs": [
    {
     "data": {
      "image/png": "[encoded data removed]",
      "text/plain": [
       "<Figure size 432x288 with 1 Axes>"
      ]
     },
     "metadata": {
      "needs_background": "light"
     },
     "output_type": "display_data"
    }
   ],
   "source": [
    "plt.errorbar(tumor_response_pivot.index, tumor_response_pivot['Capomulin'], yerr=tumor_response_sem_pivot['Capomulin'],\n",
    "             color='purple', marker='o', markersize=5, linestyle='--', linewidth=0.5, label ='Capomulin')\n",
    "\n",
    "plt.errorbar(tumor_response_pivot.index, tumor_response_pivot['Infubinol'], yerr=tumor_response_sem_pivot['Infubinol'],\n",
    "             color='b', marker='o', markersize=5, linestyle='--', linewidth=0.5, label ='Infubinol')\n",
    "\n",
    "plt.errorbar(tumor_response_pivot.index, tumor_response_pivot['Ketapril'], yerr=tumor_response_sem_pivot['Ketapril'],\n",
    "             color='g', marker='o', markersize=5, linestyle='--', linewidth=0.5, label ='Ketapril')\n",
    "\n",
    "plt.errorbar(tumor_response_pivot.index, tumor_response_pivot['Placebo'], yerr=tumor_response_sem_pivot['Placebo'],\n",
    "             color='black', marker='d', markersize=5, linestyle='--', linewidth=0.5, label ='Placebo')\n",
    "\n",
    "x_lim = len(tumor_response_pivot.index)\n",
    "# Chart title\n",
    "plt.title(\"Tumor Response to Treatment\")\n",
    "# x label\n",
    "plt.xlabel(\"Days\")\n",
    "# y label\n",
    "plt.ylabel(\"Tumor Volume (mm3)\")\n",
    "\n",
    "plt.legend()\n",
    "plt.show()"
   ]
  },
  {
   "cell_type": "code",
   "execution_count": null,
   "metadata": {},
   "outputs": [],
   "source": []
  },
  {
   "cell_type": "markdown",
   "metadata": {},
   "source": [
    "![Tumor Response to Treatment](../Images/treatment.png)"
   ]
  },
  {
   "cell_type": "markdown",
   "metadata": {},
   "source": [
    "## Metastatic Response to Treatment"
   ]
  },
  {
   "cell_type": "code",
   "execution_count": 12,
   "metadata": {},
   "outputs": [],
   "source": [
    "# Store the Standard Error associated with Met. Sites Grouped by Drug and Timepoint \n",
    "\n",
    "# Convert to DataFrame\n",
    "\n",
    "# Preview DataFrame\n"
   ]
  },
  {
   "cell_type": "code",
   "execution_count": 13,
   "metadata": {},
   "outputs": [
    {
     "ename": "TypeError",
     "evalue": "'method' object is not subscriptable",
     "output_type": "error",
     "traceback": [
      "\u001b[1;31m---------------------------------------------------------------------------\u001b[0m",
      "\u001b[1;31mTypeError\u001b[0m                                 Traceback (most recent call last)",
      "\u001b[1;32m<ipython-input-13-84c8ceca6b39>\u001b[0m in \u001b[0;36m<module>\u001b[1;34m\u001b[0m\n\u001b[0;32m      1\u001b[0m \u001b[1;31m# Store the Standard Error associated with Met. Sites Grouped by Drug and Timepoin\u001b[0m\u001b[1;33m\u001b[0m\u001b[1;33m\u001b[0m\u001b[1;33m\u001b[0m\u001b[0m\n\u001b[1;32m----> 2\u001b[1;33m \u001b[0mmetastatic_response_df\u001b[0m \u001b[1;33m=\u001b[0m \u001b[0mclinical_trial_data_to_load\u001b[0m\u001b[1;33m.\u001b[0m\u001b[0mmerge\u001b[0m\u001b[1;33m[\u001b[0m\u001b[1;33m[\u001b[0m\u001b[1;34m'Drug'\u001b[0m\u001b[1;33m,\u001b[0m \u001b[1;34m'Timepoint'\u001b[0m\u001b[1;33m,\u001b[0m \u001b[1;34m'Metastatic Sites'\u001b[0m\u001b[1;33m]\u001b[0m\u001b[1;33m]\u001b[0m\u001b[1;33m\u001b[0m\u001b[1;33m\u001b[0m\u001b[0m\n\u001b[0m",
      "\u001b[1;31mTypeError\u001b[0m: 'method' object is not subscriptable"
     ]
    }
   ],
   "source": [
    "# Store the Standard Error associated with Met. Sites Grouped by Drug and Timepoin\n",
    "metastatic_response_df = clinical_trial_data_to_load.merge[['Drug', 'Timepoint', 'Metastatic Sites']]"
   ]
  },
  {
   "cell_type": "code",
   "execution_count": null,
   "metadata": {},
   "outputs": [],
   "source": []
  },
  {
   "cell_type": "code",
   "execution_count": null,
   "metadata": {},
   "outputs": [],
   "source": []
  },
  {
   "cell_type": "code",
   "execution_count": null,
   "metadata": {},
   "outputs": [],
   "source": []
  },
  {
   "cell_type": "code",
   "execution_count": null,
   "metadata": {},
   "outputs": [],
   "source": []
  },
  {
   "cell_type": "code",
   "execution_count": null,
   "metadata": {},
   "outputs": [],
   "source": []
  },
  {
   "cell_type": "code",
   "execution_count": null,
   "metadata": {},
   "outputs": [],
   "source": [
    "# Minor Data Munging to Re-Format the Data Frames\n",
    "\n",
    "# Preview that Reformatting worked\n"
   ]
  },
  {
   "cell_type": "code",
   "execution_count": null,
   "metadata": {
    "scrolled": true
   },
   "outputs": [],
   "source": []
  },
  {
   "cell_type": "code",
   "execution_count": null,
   "metadata": {},
   "outputs": [],
   "source": [
    "# Generate the Plot (with Error Bars)\n",
    "\n",
    "# Save the Figure\n",
    "\n",
    "# Show the Figure\n"
   ]
  },
  {
   "cell_type": "markdown",
   "metadata": {},
   "source": [
    "![Metastatic Spread During Treatment](../Images/spread.png)"
   ]
  },
  {
   "cell_type": "markdown",
   "metadata": {},
   "source": [
    "## Survival Rates"
   ]
  },
  {
   "cell_type": "code",
   "execution_count": null,
   "metadata": {},
   "outputs": [],
   "source": [
    "# Store the Count of Mice Grouped by Drug and Timepoint (W can pass any metric)\n",
    "\n",
    "# Convert to DataFrame\n",
    "\n",
    "# Preview DataFrame\n"
   ]
  },
  {
   "cell_type": "code",
   "execution_count": null,
   "metadata": {},
   "outputs": [],
   "source": []
  },
  {
   "cell_type": "code",
   "execution_count": null,
   "metadata": {},
   "outputs": [],
   "source": [
    "# Minor Data Munging to Re-Format the Data Frames\n",
    "\n",
    "# Preview the Data Frame\n"
   ]
  },
  {
   "cell_type": "code",
   "execution_count": null,
   "metadata": {
    "scrolled": true
   },
   "outputs": [],
   "source": []
  },
  {
   "cell_type": "code",
   "execution_count": null,
   "metadata": {},
   "outputs": [],
   "source": [
    "# Generate the Plot (Accounting for percentages)\n",
    "\n",
    "# Save the Figure\n",
    "\n",
    "# Show the Figure\n",
    "plt.show()"
   ]
  },
  {
   "cell_type": "markdown",
   "metadata": {},
   "source": [
    "![Metastatic Spread During Treatment](../Images/survival.png)"
   ]
  },
  {
   "cell_type": "markdown",
   "metadata": {},
   "source": [
    "## Summary Bar Graph"
   ]
  },
  {
   "cell_type": "code",
   "execution_count": null,
   "metadata": {},
   "outputs": [],
   "source": [
    "# Calculate the percent changes for each drug\n",
    "\n",
    "# Display the data to confirm\n"
   ]
  },
  {
   "cell_type": "code",
   "execution_count": null,
   "metadata": {},
   "outputs": [],
   "source": []
  },
  {
   "cell_type": "code",
   "execution_count": null,
   "metadata": {},
   "outputs": [],
   "source": [
    "# Store all Relevant Percent Changes into a Tuple\n",
    "\n",
    "\n",
    "# Splice the data between passing and failing drugs\n",
    "\n",
    "\n",
    "# Orient widths. Add labels, tick marks, etc. \n",
    "\n",
    "\n",
    "# Use functions to label the percentages of changes\n",
    "\n",
    "\n",
    "# Call functions to implement the function calls\n",
    "\n",
    "\n",
    "# Save the Figure\n",
    "\n",
    "\n",
    "# Show the Figure\n",
    "fig.show()"
   ]
  },
  {
   "cell_type": "markdown",
   "metadata": {},
   "source": [
    "![Metastatic Spread During Treatment](../Images/change.png)"
   ]
  },
  {
   "cell_type": "code",
   "execution_count": null,
   "metadata": {},
   "outputs": [],
   "source": []
  }
 ],
 "metadata": {
  "anaconda-cloud": {},
  "kernelspec": {
   "display_name": "Python 3",
   "language": "python",
   "name": "python3"
  },
  "language_info": {
   "codemirror_mode": {
    "name": "ipython",
    "version": 3
   },
   "file_extension": ".py",
   "mimetype": "text/x-python",
   "name": "python",
   "nbconvert_exporter": "python",
   "pygments_lexer": "ipython3",
   "version": "3.7.3"
  }
 },
 "nbformat": 4,
 "nbformat_minor": 1
}
