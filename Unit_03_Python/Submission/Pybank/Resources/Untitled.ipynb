{
 "cells": [
  {
   "cell_type": "code",
   "execution_count": 1,
   "metadata": {},
   "outputs": [],
   "source": [
    "import pandas as pd"
   ]
  },
  {
   "cell_type": "code",
   "execution_count": 4,
   "metadata": {},
   "outputs": [],
   "source": [
    "path = \"budget_data.csv\""
   ]
  },
  {
   "cell_type": "code",
   "execution_count": 5,
   "metadata": {},
   "outputs": [],
   "source": [
    "budget = pd.read_csv(path)"
   ]
  },
  {
   "cell_type": "code",
   "execution_count": 6,
   "metadata": {},
   "outputs": [
    {
     "data": {
      "text/plain": [
       "<bound method NDFrame.head of       Date  Profit/Losses\n",
       "0   10-Jan         867884\n",
       "1   10-Feb         984655\n",
       "2   10-Mar         322013\n",
       "3   10-Apr         -69417\n",
       "4   10-May         310503\n",
       "5   10-Jun         522857\n",
       "6   10-Jul        1033096\n",
       "7   10-Aug         604885\n",
       "8   10-Sep        -216386\n",
       "9   10-Oct         477532\n",
       "10  10-Nov         893810\n",
       "11  10-Dec         -80353\n",
       "12  11-Jan         779806\n",
       "13  11-Feb        -335203\n",
       "14  11-Mar         697845\n",
       "15  11-Apr         793163\n",
       "16  11-May         485070\n",
       "17  11-Jun         584122\n",
       "18  11-Jul          62729\n",
       "19  11-Aug         668179\n",
       "20  11-Sep         899906\n",
       "21  11-Oct         834719\n",
       "22  11-Nov         132003\n",
       "23  11-Dec         309978\n",
       "24  12-Jan        -755566\n",
       "25  12-Feb        1170593\n",
       "26  12-Mar         252788\n",
       "27  12-Apr        1151518\n",
       "28  12-May         817256\n",
       "29  12-Jun         570757\n",
       "..     ...            ...\n",
       "56  14-Sep        1166643\n",
       "57  14-Oct         947333\n",
       "58  14-Nov         578668\n",
       "59  14-Dec         988505\n",
       "60  15-Jan        1139715\n",
       "61  15-Feb        1029471\n",
       "62  15-Mar         687533\n",
       "63  15-Apr        -524626\n",
       "64  15-May         158620\n",
       "65  15-Jun          87795\n",
       "66  15-Jul         423389\n",
       "67  15-Aug         840723\n",
       "68  15-Sep         568529\n",
       "69  15-Oct         332067\n",
       "70  15-Nov         989499\n",
       "71  15-Dec         778237\n",
       "72  16-Jan         650000\n",
       "73  16-Feb       -1100387\n",
       "74  16-Mar        -174946\n",
       "75  16-Apr         757143\n",
       "76  16-May         445709\n",
       "77  16-Jun         712961\n",
       "78  16-Jul       -1163797\n",
       "79  16-Aug         569899\n",
       "80  16-Sep         768450\n",
       "81  16-Oct         102685\n",
       "82  16-Nov         795914\n",
       "83  16-Dec          60988\n",
       "84  17-Jan         138230\n",
       "85  17-Feb         671099\n",
       "\n",
       "[86 rows x 2 columns]>"
      ]
     },
     "execution_count": 6,
     "metadata": {},
     "output_type": "execute_result"
    }
   ],
   "source": [
    "budget.head"
   ]
  },
  {
   "cell_type": "code",
   "execution_count": 9,
   "metadata": {},
   "outputs": [
    {
     "data": {
      "text/plain": [
       "86"
      ]
     },
     "execution_count": 9,
     "metadata": {},
     "output_type": "execute_result"
    }
   ],
   "source": [
    "total_rows = budget.Date.count()\n",
    "total_rows"
   ]
  },
  {
   "cell_type": "code",
   "execution_count": 10,
   "metadata": {},
   "outputs": [
    {
     "data": {
      "text/plain": [
       "38382578"
      ]
     },
     "execution_count": 10,
     "metadata": {},
     "output_type": "execute_result"
    }
   ],
   "source": [
    "# adding total budget\n",
    "total_profit = budget[\"Profit/Losses\"].sum()\n",
    "total_profit"
   ]
  },
  {
   "cell_type": "code",
   "execution_count": 11,
   "metadata": {},
   "outputs": [
    {
     "data": {
      "text/plain": [
       "446309.0465116279"
      ]
     },
     "execution_count": 11,
     "metadata": {},
     "output_type": "execute_result"
    }
   ],
   "source": [
    "total_profit/total_rows"
   ]
  },
  {
   "cell_type": "code",
   "execution_count": 12,
   "metadata": {},
   "outputs": [
    {
     "name": "stdout",
     "output_type": "stream",
     "text": [
      "0 10-Jan 867884\n",
      "1 10-Feb 984655\n",
      "2 10-Mar 322013\n",
      "3 10-Apr -69417\n",
      "4 10-May 310503\n",
      "5 10-Jun 522857\n",
      "6 10-Jul 1033096\n",
      "7 10-Aug 604885\n",
      "8 10-Sep -216386\n",
      "9 10-Oct 477532\n",
      "10 10-Nov 893810\n",
      "11 10-Dec -80353\n",
      "12 11-Jan 779806\n",
      "13 11-Feb -335203\n",
      "14 11-Mar 697845\n",
      "15 11-Apr 793163\n",
      "16 11-May 485070\n",
      "17 11-Jun 584122\n",
      "18 11-Jul 62729\n",
      "19 11-Aug 668179\n",
      "20 11-Sep 899906\n",
      "21 11-Oct 834719\n",
      "22 11-Nov 132003\n",
      "23 11-Dec 309978\n",
      "24 12-Jan -755566\n",
      "25 12-Feb 1170593\n",
      "26 12-Mar 252788\n",
      "27 12-Apr 1151518\n",
      "28 12-May 817256\n",
      "29 12-Jun 570757\n",
      "30 12-Jul 506702\n",
      "31 12-Aug -1022534\n",
      "32 12-Sep 475062\n",
      "33 12-Oct 779976\n",
      "34 12-Nov 144175\n",
      "35 12-Dec 542494\n",
      "36 13-Jan 359333\n",
      "37 13-Feb 321469\n",
      "38 13-Mar 67780\n",
      "39 13-Apr 471435\n",
      "40 13-May 565603\n",
      "41 13-Jun 872480\n",
      "42 13-Jul 789480\n",
      "43 13-Aug 999942\n",
      "44 13-Sep -1196225\n",
      "45 13-Oct 268997\n",
      "46 13-Nov -687986\n",
      "47 13-Dec 1150461\n",
      "48 14-Jan 682458\n",
      "49 14-Feb 617856\n",
      "50 14-Mar 824098\n",
      "51 14-Apr 581943\n",
      "52 14-May 132864\n",
      "53 14-Jun 448062\n",
      "54 14-Jul 689161\n",
      "55 14-Aug 800701\n",
      "56 14-Sep 1166643\n",
      "57 14-Oct 947333\n",
      "58 14-Nov 578668\n",
      "59 14-Dec 988505\n",
      "60 15-Jan 1139715\n",
      "61 15-Feb 1029471\n",
      "62 15-Mar 687533\n",
      "63 15-Apr -524626\n",
      "64 15-May 158620\n",
      "65 15-Jun 87795\n",
      "66 15-Jul 423389\n",
      "67 15-Aug 840723\n",
      "68 15-Sep 568529\n",
      "69 15-Oct 332067\n",
      "70 15-Nov 989499\n",
      "71 15-Dec 778237\n",
      "72 16-Jan 650000\n",
      "73 16-Feb -1100387\n",
      "74 16-Mar -174946\n",
      "75 16-Apr 757143\n",
      "76 16-May 445709\n",
      "77 16-Jun 712961\n",
      "78 16-Jul -1163797\n",
      "79 16-Aug 569899\n",
      "80 16-Sep 768450\n",
      "81 16-Oct 102685\n",
      "82 16-Nov 795914\n",
      "83 16-Dec 60988\n",
      "84 17-Jan 138230\n",
      "85 17-Feb 671099\n"
     ]
    }
   ],
   "source": [
    "changes = []\n",
    "for indx, row in budget.iterrows():\n",
    "   print(indx,row['Date'], row['Profit/Losses'])\n",
    "   if (indx < 85):\n",
    "       change = budget['Profit/Losses'][indx+1] - row['Profit/Losses']\n",
    "       #print(change)\n",
    "       changes.append(change)"
   ]
  },
  {
   "cell_type": "code",
   "execution_count": 13,
   "metadata": {},
   "outputs": [],
   "source": [
    "avg_change = sum(changes)/85"
   ]
  },
  {
   "cell_type": "code",
   "execution_count": 14,
   "metadata": {},
   "outputs": [],
   "source": [
    "max_value = max(changes)\n",
    "min_value = min(changes)\n"
   ]
  },
  {
   "cell_type": "code",
   "execution_count": 15,
   "metadata": {},
   "outputs": [
    {
     "name": "stdout",
     "output_type": "stream",
     "text": [
      "1926159\n"
     ]
    }
   ],
   "source": [
    "print (max_value)"
   ]
  },
  {
   "cell_type": "code",
   "execution_count": 16,
   "metadata": {},
   "outputs": [
    {
     "name": "stdout",
     "output_type": "stream",
     "text": [
      "-2196167\n"
     ]
    }
   ],
   "source": [
    "print (min_value)"
   ]
  },
  {
   "cell_type": "code",
   "execution_count": 17,
   "metadata": {},
   "outputs": [
    {
     "data": {
      "text/plain": [
       "24"
      ]
     },
     "execution_count": 17,
     "metadata": {},
     "output_type": "execute_result"
    }
   ],
   "source": [
    "changes.index(max_value)"
   ]
  },
  {
   "cell_type": "code",
   "execution_count": 18,
   "metadata": {},
   "outputs": [],
   "source": [
    "max_change = changes.index(max_value)"
   ]
  },
  {
   "cell_type": "code",
   "execution_count": 24,
   "metadata": {},
   "outputs": [],
   "source": [
    "min_change = changes.index(min_value)"
   ]
  },
  {
   "cell_type": "code",
   "execution_count": 27,
   "metadata": {},
   "outputs": [
    {
     "name": "stdout",
     "output_type": "stream",
     "text": [
      "12-Feb\n"
     ]
    }
   ],
   "source": [
    "max_month = budget.iloc[max_change +1].Date\n",
    "print (max_month)"
   ]
  },
  {
   "cell_type": "code",
   "execution_count": 28,
   "metadata": {},
   "outputs": [
    {
     "name": "stdout",
     "output_type": "stream",
     "text": [
      "13-Sep\n"
     ]
    }
   ],
   "source": [
    "min_month = budget.iloc[min_change +1].Date\n",
    "print (min_month)"
   ]
  },
  {
   "cell_type": "code",
   "execution_count": 29,
   "metadata": {},
   "outputs": [],
   "source": [
    "output = (\n",
    "       f\"\\nFinancial Analysis\\n\"\n",
    "   f\"----------------------------\\n\"\n",
    "   f\"Total Months: {total_rows}\\n\"\n",
    "   f\"Total: ${total_profit}\\n\"\n",
    "   f\"Average Change: ${avg_change}\\n\"\n",
    "   f\"Greatest Increase in Profit: {max_month} (${max_value})\\n\"\n",
    "   f\"Greatest Decrease in Profit: {min_month} (${min_value})\\n\")"
   ]
  },
  {
   "cell_type": "code",
   "execution_count": 30,
   "metadata": {},
   "outputs": [],
   "source": [
    "text_file = open(\"output.txt\", \"w\")\n",
    "text_file.write(output)\n",
    "text_file.close()"
   ]
  },
  {
   "cell_type": "code",
   "execution_count": null,
   "metadata": {},
   "outputs": [],
   "source": []
  }
 ],
 "metadata": {
  "kernelspec": {
   "display_name": "Python 3",
   "language": "python",
   "name": "python3"
  },
  "language_info": {
   "codemirror_mode": {
    "name": "ipython",
    "version": 3
   },
   "file_extension": ".py",
   "mimetype": "text/x-python",
   "name": "python",
   "nbconvert_exporter": "python",
   "pygments_lexer": "ipython3",
   "version": "3.7.3"
  }
 },
 "nbformat": 4,
 "nbformat_minor": 2
}
